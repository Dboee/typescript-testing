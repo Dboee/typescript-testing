{
 "cells": [
  {
   "cell_type": "markdown",
   "metadata": {},
   "source": [
    "# Generics\n",
    "\n",
    "A major part of software engineering is building components that not only have well-defined and consistent APIs, but are also reusable. Components that are capable of working on the data of today as well as the data of tomorrow will give you the most flexible capabilities for building up large software systems.\n",
    "\n",
    "In languages like C# and Java, one of the main tools in the toolbox for creating reusable components is generics, that is, being able to create a component that can work over a variety of types rather than a single one. This allows users to consume these components and use their own types.\n",
    "\n",
    "### Hello World of Generics\n",
    "\n",
    "To start off, let’s do the “hello world” of generics: the identity function. The identity function is a function that will return back whatever is passed in. You can think of this in a similar way to the echo command.\n",
    "\n",
    "Without generics, we would either have to give the identity function a specific type:"
   ]
  },
  {
   "cell_type": "code",
   "execution_count": 5,
   "metadata": {},
   "outputs": [
    {
     "name": "stdout",
     "output_type": "stream",
     "text": [
      "10\n"
     ]
    }
   ],
   "source": [
    "function identity1(arg: number): number {\n",
    "  return arg;\n",
    "}\n",
    "\n",
    "let arg = identity1(10);\n",
    "console.log(typeof arg);\n"
   ]
  },
  {
   "cell_type": "markdown",
   "metadata": {},
   "source": [
    "Or, we could describe the identity function using the ***any*** type:"
   ]
  },
  {
   "cell_type": "code",
   "execution_count": 10,
   "metadata": {},
   "outputs": [
    {
     "name": "stdout",
     "output_type": "stream",
     "text": [
      "number\n"
     ]
    }
   ],
   "source": [
    "function identity2(arg: any): any {\n",
    "  return arg;\n",
    "}\n",
    "\n",
    "let arg2 = identity2(10);\n",
    "console.log(typeof arg2);\n"
   ]
  },
  {
   "cell_type": "markdown",
   "metadata": {},
   "source": [
    "While using ***any***  is certainly generic in that it will cause the function to accept any and all types for the type of ***arg***, we actually are losing the information about what that type was when the function returns. If we passed in a number, the only information we have is that ***any*** type could be returned.\n",
    "\n",
    "Instead, we need a way of capturing the type of the argument in such a way that we can also use it to denote what is being returned. Here, we will use a ***type variable***, a special kind of variable that works on types rather than values.\n",
    "\n"
   ]
  },
  {
   "cell_type": "code",
   "execution_count": 7,
   "metadata": {},
   "outputs": [],
   "source": [
    "function identity3<Type>(arg: Type): Type {\n",
    "  return arg;\n",
    "}\n"
   ]
  },
  {
   "cell_type": "markdown",
   "metadata": {},
   "source": [
    "We’ve now added a type variable ***Type*** to the identity function. This ***Type*** allows us to capture the type the user provides (e.g. number), so that we can use that information later. Here, we use ***Type*** again as the return type. On inspection, we can now see the same type is used for the argument and the return type. This allows us to traffic that type information in one side of the function and out the other.\n",
    "\n",
    "We say that this version of the identity function is generic, as it works over a range of types. Unlike using ***any***, it’s also just as precise (i.e., it doesn’t lose any information) as the first identity function that used numbers for the argument and return type.\n",
    "\n",
    "Once we’ve written the generic identity function, we can call it in one of two ways. The first way is to pass all of the arguments, including the type argument, to the function:"
   ]
  },
  {
   "cell_type": "code",
   "execution_count": 2,
   "metadata": {},
   "outputs": [
    {
     "name": "stdout",
     "output_type": "stream",
     "text": [
      "string\n"
     ]
    }
   ],
   "source": [
    "function identity3<Type>(arg: Type): Type {\n",
    "  return arg;\n",
    "}\n",
    "\n",
    "const output = identity3<string>('myString');\n",
    "console.log(typeof output);\n"
   ]
  },
  {
   "cell_type": "markdown",
   "metadata": {},
   "source": [
    "Here we explicitly set ***Type*** to be ***string*** as one of the arguments to the function call, denoted using the ***<>*** around the arguments rather than ***()***.\n",
    "\n",
    "The second way is also perhaps the most common. Here we use type argument inference — that is, we want the compiler to set the value of Type for us automatically based on the type of the argument we pass in:"
   ]
  },
  {
   "cell_type": "code",
   "execution_count": 5,
   "metadata": {},
   "outputs": [
    {
     "name": "stdout",
     "output_type": "stream",
     "text": [
      "string\n"
     ]
    }
   ],
   "source": [
    "function identity3<Type>(arg: Type): Type {\n",
    "  return arg;\n",
    "}\n",
    "\n",
    "let output3 = identity3('myString');\n",
    "console.log(typeof output3);\n"
   ]
  },
  {
   "cell_type": "markdown",
   "metadata": {},
   "source": [
    "Notice that we didn’t have to explicitly pass the type in the angle brackets (***<>***); the compiler just looked at the value ***\"myString\"***, and set ***Type*** to its type. While type argument inference can be a helpful tool to keep code shorter and more readable, you may need to explicitly pass in the type arguments as we did in the previous example when the compiler fails to infer the type, as may happen in more complex examples.\n",
    "\n",
    "### Working with Generic Type Variables\n",
    "\n",
    "When you begin to use generics, you’ll notice that when you create generic functions like ***identity***, the compiler will enforce that you use any generically typed parameters in the body of the function correctly. That is, that you actually treat these parameters as if they could be any and all types.\n",
    "\n",
    "Let’s take our ***identity*** function from earlier:\n",
    "\n",
    "\n",
    "\n",
    "\n"
   ]
  },
  {
   "cell_type": "code",
   "execution_count": 7,
   "metadata": {},
   "outputs": [],
   "source": [
    "function identity3<Type>(arg: Type): Type {\n",
    "  return arg;\n",
    "}\n"
   ]
  },
  {
   "cell_type": "markdown",
   "metadata": {},
   "source": [
    "What if we want to also log the length of the argument ***arg*** to the console with each call? We might be tempted to write this:\n"
   ]
  },
  {
   "cell_type": "code",
   "execution_count": 1,
   "metadata": {},
   "outputs": [
    {
     "name": "stdout",
     "output_type": "stream",
     "text": [
      "5\n",
      "Hello\n"
     ]
    }
   ],
   "source": [
    "function loggingIdentity1<Type>(arg: Type): Type {\n",
    "  console.log(arg.length);\n",
    "  return arg;\n",
    "}\n",
    "\n",
    "const err = loggingIdentity1(\"Hello\");\n",
    "console.log(err)\n"
   ]
  },
  {
   "cell_type": "markdown",
   "metadata": {},
   "source": [
    "When we do, the compiler will give us an error that we’re using the ***.length*** member of ***arg***, but nowhere have we said that ***arg*** has this member. Remember, we said earlier that these type variables stand in for any and all types, so someone using this function could have passed in a ***number*** instead, which does not have a ***.length*** member.\n",
    "\n",
    "Let’s say that we’ve actually intended this function to work on arrays of ***Type*** rather than ***Type*** directly. Since we’re working with arrays, the ***.length*** member should be available. We can describe this just like we would create arrays of other types:"
   ]
  },
  {
   "cell_type": "code",
   "execution_count": null,
   "metadata": {},
   "outputs": [],
   "source": [
    "function loggingIdentity2<Type>(arg: Type[]): Type[] {\n",
    "  console.log(arg.length);\n",
    "  return arg;\n",
    "}\n"
   ]
  },
  {
   "cell_type": "markdown",
   "metadata": {},
   "source": [
    "You can read the type of ***loggingIdentity*** as “the generic function ***loggingIdentity*** takes a type parameter ***Type***, and an argument ***arg*** which is an array of ***Types***, and returns an array of ***Types***.” If we passed in an array of numbers, we’d get an array of numbers back out, as ***Type*** would bind to ***number***. This allows us to use our generic type variable ***Type*** as part of the types we’re working with, rather than the whole type, giving us greater flexibility.\n",
    "\n",
    "We can alternatively write the sample example this way:"
   ]
  },
  {
   "cell_type": "code",
   "execution_count": null,
   "metadata": {},
   "outputs": [],
   "source": [
    "function loggingIdentity3<Type>(arg: Array<Type>): Array<Type> {\n",
    "  console.log(arg.length); // Array has a .length, so no more error\n",
    "  return arg;\n",
    "}\n"
   ]
  },
  {
   "cell_type": "markdown",
   "metadata": {},
   "source": [
    "You may already be familiar with this style of type from other languages. In the next section, we’ll cover how you can create your own generic types like ***Array<Type>***.\n",
    "\n",
    "## Generic Types\n",
    "\n",
    "In previous sections, we created generic identity functions that worked over a range of types. In this section, we’ll explore the type of the functions themselves and how to create generic interfaces.\n",
    "\n",
    "The type of generic functions is just like those of non-generic functions, with the type parameters listed first, similarly to function declarations:"
   ]
  },
  {
   "cell_type": "code",
   "execution_count": null,
   "metadata": {},
   "outputs": [],
   "source": [
    "function identity<Type>(arg: Type): Type {\n",
    "  return arg;\n",
    "}\n",
    "\n",
    "let myIdentity: <Type>(arg: Type) => Type = identity;\n"
   ]
  },
  {
   "cell_type": "markdown",
   "metadata": {},
   "source": [
    "We could also have used a different name for the generic type parameter in the type, so long as the number of type variables and how the type variables are used line up."
   ]
  },
  {
   "cell_type": "code",
   "execution_count": null,
   "metadata": {},
   "outputs": [],
   "source": [
    "function identity<Type>(arg: Type): Type {\n",
    "  return arg;\n",
    "}\n",
    "\n",
    "let myIdentity: <Input>(arg: Input) => Input = identity;\n"
   ]
  },
  {
   "cell_type": "markdown",
   "metadata": {},
   "source": [
    "We can also write the generic type as a call signature of an object literal type:"
   ]
  },
  {
   "cell_type": "code",
   "execution_count": null,
   "metadata": {},
   "outputs": [],
   "source": [
    "function identity<Type>(arg: Type): Type {\n",
    "  return arg;\n",
    "}\n",
    "\n",
    "let myIdentity: { <Type>(arg: Type): Type } = identity;\n"
   ]
  },
  {
   "cell_type": "markdown",
   "metadata": {},
   "source": [
    "Which leads us to writing our first generic interface. Let’s take the object literal from the previous example and move it to an interface:"
   ]
  },
  {
   "cell_type": "code",
   "execution_count": null,
   "metadata": {},
   "outputs": [],
   "source": [
    "interface GenericIdentityFn {\n",
    "  <Type>(arg: Type): Type;\n",
    "}\n",
    "\n",
    "function identity<Type>(arg: Type): Type {\n",
    "  return arg;\n",
    "}\n",
    "\n",
    "let myIdentity: GenericIdentityFn = identity;\n"
   ]
  },
  {
   "cell_type": "markdown",
   "metadata": {},
   "source": [
    "In a similar example, we may want to move the generic parameter to be a parameter of the whole interface. This lets us see what type(s) we’re generic over (e.g. ***Dictionary<string>*** rather than just ***Dictionary***). This makes the type parameter visible to all the other members of the interface."
   ]
  },
  {
   "cell_type": "code",
   "execution_count": null,
   "metadata": {},
   "outputs": [],
   "source": [
    "interface GenericIdentityFn<Type> {\n",
    "  (arg: Type): Type;\n",
    "}\n",
    "\n",
    "function identity<Type>(arg: Type): Type {\n",
    "  return arg;\n",
    "}\n",
    "\n",
    "let myIdentity: GenericIdentityFn<number> = identity;\n"
   ]
  }
 ],
 "metadata": {
  "kernelspec": {
   "display_name": "Deno",
   "language": "typescript",
   "name": "deno"
  },
  "language_info": {
   "codemirror_mode": "typescript",
   "file_extension": ".ts",
   "mimetype": "text/x.typescript",
   "name": "typescript",
   "nbconvert_exporter": "script",
   "pygments_lexer": "typescript",
   "version": "5.5.2"
  }
 },
 "nbformat": 4,
 "nbformat_minor": 2
}
